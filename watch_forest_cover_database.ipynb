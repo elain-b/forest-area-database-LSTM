{
  "nbformat": 4,
  "nbformat_minor": 0,
  "metadata": {
    "colab": {
      "name": "watch-forest-cover-database.ipynb",
      "provenance": [],
      "authorship_tag": "ABX9TyOF6oelFTzPyclz0Vzz7cWT",
      "include_colab_link": true
    },
    "kernelspec": {
      "name": "python3",
      "display_name": "Python 3"
    }
  },
  "cells": [
    {
      "cell_type": "markdown",
      "metadata": {
        "id": "view-in-github",
        "colab_type": "text"
      },
      "source": [
        "<a href=\"https://colab.research.google.com/github/elain-b/forest-area-database-LSTM/blob/main/watch_forest_cover_database.ipynb\" target=\"_parent\"><img src=\"https://colab.research.google.com/assets/colab-badge.svg\" alt=\"Open In Colab\"/></a>"
      ]
    },
    {
      "cell_type": "code",
      "metadata": {
        "id": "weJtTJaH6oyH"
      },
      "source": [
        "import csv\n",
        "\n",
        "with open('../content/forest-area-as-share-of-land-area.csv', 'r') as f:\n",
        "  reader = csv.reader(f)\n",
        "  for line in reader :\n",
        "    print(line)"
      ],
      "execution_count": null,
      "outputs": []
    },
    {
      "cell_type": "code",
      "metadata": {
        "colab": {
          "base_uri": "https://localhost:8080/",
          "height": 204
        },
        "id": "KH4WZHJq_0zb",
        "outputId": "13287717-4937-494b-d716-55dc3586e73c"
      },
      "source": [
        "import matplotlib.pyplot as plt\n",
        "import pandas as pd\n",
        "import numpy as np\n",
        "from sklearn.preprocessing import MinMaxScaler\n",
        "from keras.models import Sequential\n",
        "from keras.layers.recurrent import LSTM\n",
        "from keras.layers.core import Dense, Activation, Dropout\n",
        "from sklearn.metrics import mean_squared_error\n",
        "import math\n",
        "df = pd.read_csv('../content/forest-area-as-share-of-land-area.csv')\n",
        "df.head()\n",
        "# df.plot.bar(figsize=(9, 6))\n",
        "# df.plot(figsize=(9, 6))"
      ],
      "execution_count": 37,
      "outputs": [
        {
          "output_type": "execute_result",
          "data": {
            "text/html": [
              "<div>\n",
              "<style scoped>\n",
              "    .dataframe tbody tr th:only-of-type {\n",
              "        vertical-align: middle;\n",
              "    }\n",
              "\n",
              "    .dataframe tbody tr th {\n",
              "        vertical-align: top;\n",
              "    }\n",
              "\n",
              "    .dataframe thead th {\n",
              "        text-align: right;\n",
              "    }\n",
              "</style>\n",
              "<table border=\"1\" class=\"dataframe\">\n",
              "  <thead>\n",
              "    <tr style=\"text-align: right;\">\n",
              "      <th></th>\n",
              "      <th>Entity</th>\n",
              "      <th>Code</th>\n",
              "      <th>Year</th>\n",
              "      <th>Forest cover</th>\n",
              "    </tr>\n",
              "  </thead>\n",
              "  <tbody>\n",
              "    <tr>\n",
              "      <th>0</th>\n",
              "      <td>Afghanistan</td>\n",
              "      <td>AFG</td>\n",
              "      <td>1990</td>\n",
              "      <td>1.850994</td>\n",
              "    </tr>\n",
              "    <tr>\n",
              "      <th>1</th>\n",
              "      <td>Afghanistan</td>\n",
              "      <td>AFG</td>\n",
              "      <td>1991</td>\n",
              "      <td>1.850994</td>\n",
              "    </tr>\n",
              "    <tr>\n",
              "      <th>2</th>\n",
              "      <td>Afghanistan</td>\n",
              "      <td>AFG</td>\n",
              "      <td>1992</td>\n",
              "      <td>1.850994</td>\n",
              "    </tr>\n",
              "    <tr>\n",
              "      <th>3</th>\n",
              "      <td>Afghanistan</td>\n",
              "      <td>AFG</td>\n",
              "      <td>1993</td>\n",
              "      <td>1.850994</td>\n",
              "    </tr>\n",
              "    <tr>\n",
              "      <th>4</th>\n",
              "      <td>Afghanistan</td>\n",
              "      <td>AFG</td>\n",
              "      <td>1994</td>\n",
              "      <td>1.850994</td>\n",
              "    </tr>\n",
              "  </tbody>\n",
              "</table>\n",
              "</div>"
            ],
            "text/plain": [
              "        Entity Code  Year  Forest cover\n",
              "0  Afghanistan  AFG  1990      1.850994\n",
              "1  Afghanistan  AFG  1991      1.850994\n",
              "2  Afghanistan  AFG  1992      1.850994\n",
              "3  Afghanistan  AFG  1993      1.850994\n",
              "4  Afghanistan  AFG  1994      1.850994"
            ]
          },
          "metadata": {
            "tags": []
          },
          "execution_count": 37
        }
      ]
    },
    {
      "cell_type": "code",
      "metadata": {
        "id": "1f4pW4mNuHK0"
      },
      "source": [
        "look_back = 1\n",
        "epochs = 30\n",
        "batch_size = 1"
      ],
      "execution_count": 2,
      "outputs": []
    },
    {
      "cell_type": "code",
      "metadata": {
        "colab": {
          "base_uri": "https://localhost:8080/"
        },
        "id": "l_4DxNvtE8Os",
        "outputId": "5cff720f-bb0d-4eef-8bb6-2f47289c6cc8"
      },
      "source": [
        "dataset = df['Forest cover']\n",
        "ds = dataset.values\n",
        "ds = ds.astype('float32')\n",
        "ds = ds.reshape((-1,1))\n",
        "\n",
        "scaler = MinMaxScaler(feature_range=(0, 1))\n",
        "ds = scaler.fit_transform(ds)\n",
        "print(ds)"
      ],
      "execution_count": 3,
      "outputs": [
        {
          "output_type": "stream",
          "text": [
            "[[0.00762533]\n",
            " [0.00762533]\n",
            " [0.00762533]\n",
            " ...\n",
            " [0.18674944]\n",
            " [0.18625884]\n",
            " [0.18576825]]\n"
          ],
          "name": "stdout"
        }
      ]
    },
    {
      "cell_type": "code",
      "metadata": {
        "colab": {
          "base_uri": "https://localhost:8080/"
        },
        "id": "Z4A3LpZYsx9h",
        "outputId": "808ae908-d5fb-4b2d-b1c3-54b19cba455e"
      },
      "source": [
        "train_size = int(len(ds) * 0.67)\n",
        "test_size = len(ds) - train_size\n",
        "train, test = ds[:train_size,:], ds[train_size:len(ds),:]\n",
        "print(len(train), len(test))"
      ],
      "execution_count": 4,
      "outputs": [
        {
          "output_type": "stream",
          "text": [
            "5342 2632\n"
          ],
          "name": "stdout"
        }
      ]
    },
    {
      "cell_type": "code",
      "metadata": {
        "colab": {
          "base_uri": "https://localhost:8080/"
        },
        "id": "PIFnRd8dtpMf",
        "outputId": "2854b0bb-9540-4d46-9ff5-cd89368fbf05"
      },
      "source": [
        "def createdataset(dataset, lookback):\n",
        "  dataX, dataY = [], []\n",
        "  for i in range(len(dataset)-lookback-1):\n",
        "    a = dataset[i:(i+lookback), ]\n",
        "    dataX.append(a)\n",
        "    dataY.append(dataset[i + look_back, ])\n",
        "  return np.array(dataX), np.array(dataY)\n",
        "\n",
        "trainX, trainY = createdataset(train, look_back)\n",
        "testX, testY = createdataset(test, look_back)\n",
        "(trainX.shape, trainY.shape, testX.shape, testY.shape)"
      ],
      "execution_count": 5,
      "outputs": [
        {
          "output_type": "execute_result",
          "data": {
            "text/plain": [
              "((5340, 1, 1), (5340, 1), (2630, 1, 1), (2630, 1))"
            ]
          },
          "metadata": {
            "tags": []
          },
          "execution_count": 5
        }
      ]
    },
    {
      "cell_type": "code",
      "metadata": {
        "colab": {
          "base_uri": "https://localhost:8080/"
        },
        "id": "fr7fP0trubIa",
        "outputId": "a91fba86-8f9b-4f85-e6d2-b320cb042280"
      },
      "source": [
        "trainX = np.reshape(trainX, (trainX.shape[0], 1, trainX.shape[1]))\n",
        "testX = np.reshape(testX, (testX.shape[0], 1, testX.shape[1]))\n",
        "(trainX.shape, testX.shape)"
      ],
      "execution_count": 6,
      "outputs": [
        {
          "output_type": "execute_result",
          "data": {
            "text/plain": [
              "((5340, 1, 1), (2630, 1, 1))"
            ]
          },
          "metadata": {
            "tags": []
          },
          "execution_count": 6
        }
      ]
    },
    {
      "cell_type": "code",
      "metadata": {
        "colab": {
          "base_uri": "https://localhost:8080/"
        },
        "id": "04RoWMIDueW6",
        "outputId": "2f5fc7d4-5be0-42f3-b7d7-9f99fff3f50b"
      },
      "source": [
        "# LSTMネットワークを作成し、適合させる\n",
        "model = Sequential()\n",
        "model.add(LSTM(4, input_shape=(1, look_back)))\n",
        "model.add(Dense(1))\n",
        "model.compile(loss='mean_squared_error', optimizer='adam')\n",
        "model.fit(trainX, trainY, epochs=epochs, batch_size=batch_size,verbose=2)"
      ],
      "execution_count": 7,
      "outputs": [
        {
          "output_type": "stream",
          "text": [
            "Epoch 1/30\n",
            "5340/5340 - 6s - loss: 0.0027\n",
            "Epoch 2/30\n",
            "5340/5340 - 5s - loss: 8.6199e-04\n",
            "Epoch 3/30\n",
            "5340/5340 - 5s - loss: 8.4039e-04\n",
            "Epoch 4/30\n",
            "5340/5340 - 5s - loss: 8.3323e-04\n",
            "Epoch 5/30\n",
            "5340/5340 - 5s - loss: 8.2114e-04\n",
            "Epoch 6/30\n",
            "5340/5340 - 5s - loss: 8.1833e-04\n",
            "Epoch 7/30\n",
            "5340/5340 - 5s - loss: 8.0995e-04\n",
            "Epoch 8/30\n",
            "5340/5340 - 5s - loss: 8.0794e-04\n",
            "Epoch 9/30\n",
            "5340/5340 - 5s - loss: 7.9975e-04\n",
            "Epoch 10/30\n",
            "5340/5340 - 5s - loss: 8.0148e-04\n",
            "Epoch 11/30\n",
            "5340/5340 - 5s - loss: 8.0241e-04\n",
            "Epoch 12/30\n",
            "5340/5340 - 5s - loss: 7.9534e-04\n",
            "Epoch 13/30\n",
            "5340/5340 - 5s - loss: 7.9909e-04\n",
            "Epoch 14/30\n",
            "5340/5340 - 5s - loss: 7.8961e-04\n",
            "Epoch 15/30\n",
            "5340/5340 - 5s - loss: 7.8981e-04\n",
            "Epoch 16/30\n",
            "5340/5340 - 5s - loss: 7.8720e-04\n",
            "Epoch 17/30\n",
            "5340/5340 - 5s - loss: 7.9482e-04\n",
            "Epoch 18/30\n",
            "5340/5340 - 5s - loss: 7.8751e-04\n",
            "Epoch 19/30\n",
            "5340/5340 - 5s - loss: 7.8737e-04\n",
            "Epoch 20/30\n",
            "5340/5340 - 5s - loss: 7.9166e-04\n",
            "Epoch 21/30\n",
            "5340/5340 - 5s - loss: 7.8568e-04\n",
            "Epoch 22/30\n",
            "5340/5340 - 5s - loss: 7.8833e-04\n",
            "Epoch 23/30\n",
            "5340/5340 - 5s - loss: 7.8665e-04\n",
            "Epoch 24/30\n",
            "5340/5340 - 5s - loss: 7.8406e-04\n",
            "Epoch 25/30\n",
            "5340/5340 - 5s - loss: 7.8821e-04\n",
            "Epoch 26/30\n",
            "5340/5340 - 5s - loss: 7.8402e-04\n",
            "Epoch 27/30\n",
            "5340/5340 - 5s - loss: 7.8760e-04\n",
            "Epoch 28/30\n",
            "5340/5340 - 5s - loss: 7.8131e-04\n",
            "Epoch 29/30\n",
            "5340/5340 - 5s - loss: 7.7838e-04\n",
            "Epoch 30/30\n",
            "5340/5340 - 5s - loss: 7.8125e-04\n"
          ],
          "name": "stdout"
        },
        {
          "output_type": "execute_result",
          "data": {
            "text/plain": [
              "<tensorflow.python.keras.callbacks.History at 0x7faf75d6d4e0>"
            ]
          },
          "metadata": {
            "tags": []
          },
          "execution_count": 7
        }
      ]
    },
    {
      "cell_type": "code",
      "metadata": {
        "id": "e3U6c88NyCVx"
      },
      "source": [
        "trainPredict = model.predict(trainX)\n",
        "testPredict = model.predict(testX)"
      ],
      "execution_count": 8,
      "outputs": []
    },
    {
      "cell_type": "code",
      "metadata": {
        "id": "Eelgio49GU6w"
      },
      "source": [
        "trainY = trainY.reshape(trainY.shape[0], -1)\n",
        "\n",
        "# 予測値と目標を非スケールに反転させる\n",
        "trainPredict = scaler.inverse_transform(trainPredict)\n",
        "trainY = scaler.inverse_transform(trainY)\n",
        "testPredict = scaler.inverse_transform(testPredict)\n",
        "testY = scaler.inverse_transform(testY)"
      ],
      "execution_count": 21,
      "outputs": []
    },
    {
      "cell_type": "code",
      "metadata": {
        "colab": {
          "base_uri": "https://localhost:8080/"
        },
        "id": "NdhfalGzzVJk",
        "outputId": "48593ebb-ba27-441e-b2f1-1bf554a6fa4d"
      },
      "source": [
        "# 根底平均二乗誤差を求める\n",
        "trainScore = math.sqrt(mean_squared_error(trainY[:,0], trainPredict[:,0]))\n",
        "print('Train Score: %.5f RMSE' % (trainScore))\n",
        "testScore = math.sqrt(mean_squared_error(testY[:,0], testPredict[:,0]))\n",
        "print('Test Score: %.5f RMSE' % (testScore))"
      ],
      "execution_count": 33,
      "outputs": [
        {
          "output_type": "stream",
          "text": [
            "Train Score: inf RMSE\n",
            "Test Score: 2335895.61980 RMSE\n"
          ],
          "name": "stdout"
        },
        {
          "output_type": "stream",
          "text": [
            "/usr/local/lib/python3.6/dist-packages/sklearn/metrics/_regression.py:254: RuntimeWarning: overflow encountered in square\n",
            "  output_errors = np.average((y_true - y_pred) ** 2, axis=0,\n"
          ],
          "name": "stderr"
        }
      ]
    },
    {
      "cell_type": "code",
      "metadata": {
        "id": "aQJ6C3u83c21"
      },
      "source": [
        "# プロット用学習データのシフト予測\n",
        "trainPredictPlot = np.empty_like(ds)\n",
        "trainPredictPlot[:, :] = np.nan\n",
        "trainPredictPlot[look_back:len(trainPredict)+look_back, :] = trainPredict\n",
        "\n",
        "# プロット用テストデータのシフト予測\n",
        "testPredictPlot = np.empty_like(ds)\n",
        "testPredictPlot[:, :] = np.nan\n",
        "testPredictPlot[len(trainPredict)+(look_back*2)+1:len(ds)-1, :] = testPredict"
      ],
      "execution_count": 35,
      "outputs": []
    },
    {
      "cell_type": "code",
      "metadata": {
        "colab": {
          "base_uri": "https://localhost:8080/",
          "height": 276
        },
        "id": "aYeXlbCM4Osy",
        "outputId": "6298e2bb-72dd-4165-b525-a0316a9d2457"
      },
      "source": [
        "# ベースラインと予測値をプロットする\n",
        "plt.plot(scaler.inverse_transform(ds))\n",
        "plt.plot(trainPredictPlot)\n",
        "plt.plot(testPredictPlot)\n",
        "plt.plot(figsize=(16))\n",
        "plt.show()"
      ],
      "execution_count": 43,
      "outputs": [
        {
          "output_type": "display_data",
          "data": {
            "image/png": "[encoded data removed]",
            "text/plain": [
              "<Figure size 432x288 with 1 Axes>"
            ]
          },
          "metadata": {
            "tags": [],
            "needs_background": "light"
          }
        }
      ]
    }
  ]
}